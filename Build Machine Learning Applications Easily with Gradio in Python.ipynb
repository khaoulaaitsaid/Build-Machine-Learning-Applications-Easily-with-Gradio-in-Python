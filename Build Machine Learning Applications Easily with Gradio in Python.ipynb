{
 "cells": [
  {
   "cell_type": "code",
   "execution_count": 89,
   "id": "22d5a54d-e71b-4f48-9c4c-4e4f59826b0d",
   "metadata": {},
   "outputs": [],
   "source": [
    "import tensorflow as tf\n",
    "from tensorflow.keras import layers, models"
   ]
  },
  {
   "cell_type": "code",
   "execution_count": 91,
   "id": "f87670be-9d10-4c33-85c7-2ab815604961",
   "metadata": {},
   "outputs": [],
   "source": [
    "(train_images, train_labels), (test_images, test_labels) = tf.keras.datasets.mnist.load_data()"
   ]
  },
  {
   "cell_type": "code",
   "execution_count": 93,
   "id": "301fa89a-e3cd-4bb2-801b-071db0ca4c1f",
   "metadata": {},
   "outputs": [],
   "source": [
    "train_images = train_images.reshape((60000, 28, 28, 1)).astype('float32') / 255\n",
    "test_images = test_images.reshape((10000, 28, 28, 1)).astype('float32') / 255\n"
   ]
  },
  {
   "cell_type": "code",
   "execution_count": 95,
   "id": "5970905a-54cb-48a7-8f28-b3d859ac74c0",
   "metadata": {},
   "outputs": [],
   "source": [
    "train_labels = tf.keras.utils.to_categorical(train_labels)\n",
    "test_labels = tf.keras.utils.to_categorical(test_labels)"
   ]
  },
  {
   "cell_type": "code",
   "execution_count": 96,
   "id": "bb55f021-b8db-4ab0-b9a1-2df1b6189b45",
   "metadata": {},
   "outputs": [
    {
     "name": "stdout",
     "output_type": "stream",
     "text": [
      "Epoch 1/5\n",
      "844/844 [==============================] - 43s 48ms/step - loss: 0.1982 - accuracy: 0.9396 - val_loss: 0.0636 - val_accuracy: 0.9807\n",
      "Epoch 2/5\n",
      "844/844 [==============================] - 39s 47ms/step - loss: 0.0552 - accuracy: 0.9828 - val_loss: 0.0417 - val_accuracy: 0.9877\n",
      "Epoch 3/5\n",
      "844/844 [==============================] - 40s 47ms/step - loss: 0.0383 - accuracy: 0.9877 - val_loss: 0.0444 - val_accuracy: 0.9883\n",
      "Epoch 4/5\n",
      "844/844 [==============================] - 40s 47ms/step - loss: 0.0310 - accuracy: 0.9901 - val_loss: 0.0361 - val_accuracy: 0.9893\n",
      "Epoch 5/5\n",
      "844/844 [==============================] - 48s 57ms/step - loss: 0.0234 - accuracy: 0.9925 - val_loss: 0.0402 - val_accuracy: 0.9880\n"
     ]
    },
    {
     "data": {
      "text/plain": [
       "<keras.src.callbacks.History at 0x1f58d8bbe10>"
      ]
     },
     "execution_count": 96,
     "metadata": {},
     "output_type": "execute_result"
    }
   ],
   "source": [
    "model = models.Sequential()\n",
    "model.add(layers.Conv2D(32, (3,3), activation='relu', input_shape=(28, 28, 1)))\n",
    "model.add(layers.MaxPooling2D(2,2))\n",
    "model.add(layers.Conv2D(64, (3,3), activation='relu'))\n",
    "model.add(layers.MaxPooling2D(2,2))\n",
    "model.add(layers.Conv2D(64, (3,3), activation='relu'))\n",
    "model.add(layers.Flatten())\n",
    "model.add(layers.Dense(64, activation='relu'))\n",
    "model.add(layers.Dense(10, activation='softmax'))\n",
    "\n",
    "\n",
    "model.compile(optimizer='adam', loss='categorical_crossentropy', metrics=['accuracy'])\n",
    "model.fit(train_images, train_labels, epochs=5, batch_size=64, validation_split=0.1)"
   ]
  },
  {
   "cell_type": "code",
   "execution_count": 98,
   "id": "309e4039-2c45-4189-a30d-ef9d04d939b7",
   "metadata": {},
   "outputs": [],
   "source": [
    "import gradio as gr\n",
    "import tensorflow as tf"
   ]
  },
  {
   "cell_type": "code",
   "execution_count": 99,
   "id": "b09fd859-22b4-4630-be8c-1c52c014442f",
   "metadata": {},
   "outputs": [],
   "source": [
    "def recognize_digit(image):\n",
    "    if image is not None:\n",
    "        image = image.reshape((1, 28, 28, 1)).astype('float32') / 255\n",
    "        prediction = model.predict(image)\n",
    "        return {str(i): float(prediction[0][i]) for i in range(10)}\n",
    "    else:\n",
    "        return ''"
   ]
  },
  {
   "cell_type": "code",
   "execution_count": null,
   "id": "ad38a725-3ec5-4675-8815-eb012d1fc19f",
   "metadata": {},
   "outputs": [],
   "source": [
    "iface = gr.Interface(\n",
    "    fn=recognize_digit,\n",
    "    inputs=gr.Image(shape=(28, 28), image_mode=\"L\", invert_colors=True, source='canvas'),\n",
    "    outputs=gr.Label(num_top_classes=3),\n",
    "    live=True\n",
    ")\n",
    "iface.launch()"
   ]
  }
 ],
 "metadata": {
  "kernelspec": {
   "display_name": "Python 3 (ipykernel)",
   "language": "python",
   "name": "python3"
  },
  "language_info": {
   "codemirror_mode": {
    "name": "ipython",
    "version": 3
   },
   "file_extension": ".py",
   "mimetype": "text/x-python",
   "name": "python",
   "nbconvert_exporter": "python",
   "pygments_lexer": "ipython3",
   "version": "3.11.3"
  }
 },
 "nbformat": 4,
 "nbformat_minor": 5
}
